{
 "cells": [
  {
   "cell_type": "code",
   "execution_count": 14,
   "metadata": {},
   "outputs": [
    {
     "data": {
      "text/plain": [
       "<module 'juggy.algo' from '/Users/taso/work/juggy/juggy/algo.py'>"
      ]
     },
     "execution_count": 14,
     "metadata": {},
     "output_type": "execute_result"
    }
   ],
   "source": [
    "from juggy import algo as a\n",
    "\n",
    "import importlib\n",
    "importlib.reload(a)"
   ]
  },
  {
   "cell_type": "code",
   "execution_count": null,
   "metadata": {},
   "outputs": [],
   "source": [
    "\n",
    "\n",
    "\n",
    "\n",
    "for i, j in zip(range(1, 10), range(11, 19)):\n",
    "    print (i, j)\n",
    "    \n"
   ]
  },
  {
   "cell_type": "code",
   "execution_count": null,
   "metadata": {},
   "outputs": [],
   "source": [
    "a.generate_warmups(315, 5, False, 4)"
   ]
  },
  {
   "cell_type": "code",
   "execution_count": 9,
   "metadata": {},
   "outputs": [
    {
     "data": {
      "text/plain": [
       "[(45, 10),\n",
       " (70, 5),\n",
       " (95, 3),\n",
       " (120, 2),\n",
       " '-',\n",
       " (145, 5),\n",
       " (175, 3),\n",
       " (200, 1),\n",
       " (215, 10)]"
      ]
     },
     "execution_count": 9,
     "metadata": {},
     "output_type": "execute_result"
    }
   ],
   "source": [
    "a.generate_lifts(a.TEMPLATE[0][2], 285, 5, False)"
   ]
  },
  {
   "cell_type": "code",
   "execution_count": 15,
   "metadata": {},
   "outputs": [
    {
     "name": "stdout",
     "output_type": "stream",
     "text": [
      "[(45, 10), (70, 5), (95, 3), (120, 2), None, (145, 5), (175, 3), (200, 1), (215, 10)]\n",
      "[(45, 10), (65, 5), (85, 3), (105, 2), None, (110, 5), (135, 3), (155, 1), (165, 10)]\n",
      "[(65, 10), (105, 5), (145, 3), (185, 2), None, (215, 5), (260, 3), (305, 1), (325, 10)]\n",
      "[(45, 10), (50, 5), (55, 3), (60, 2), None, (65, 5), (80, 3), (95, 1), (100, 10)]\n"
     ]
    }
   ],
   "source": [
    "BENCH_TM = 220\n",
    "SQUAT_TM = 285\n",
    "OHP_TM = 130\n",
    "DEADLIFT_TM = 430\n",
    "\n",
    "squats = a.generate_lifts(a.TEMPLATE[0][2], SQUAT_TM, 5, False)\n",
    "bench = a.generate_lifts(a.TEMPLATE[0][2], BENCH_TM, 5, False)\n",
    "deads = a.generate_lifts(a.TEMPLATE[0][2], DEADLIFT_TM, 5, True)\n",
    "ohp = a.generate_lifts(a.TEMPLATE[0][2], OHP_TM, 5, False)\n",
    "\n",
    "\n",
    "print(squats)\n",
    "print(bench)\n",
    "print(deads)\n",
    "print(ohp)\n"
   ]
  }
 ],
 "metadata": {
  "kernelspec": {
   "display_name": "venv",
   "language": "python",
   "name": "python3"
  },
  "language_info": {
   "codemirror_mode": {
    "name": "ipython",
    "version": 3
   },
   "file_extension": ".py",
   "mimetype": "text/x-python",
   "name": "python",
   "nbconvert_exporter": "python",
   "pygments_lexer": "ipython3",
   "version": "3.11.3"
  }
 },
 "nbformat": 4,
 "nbformat_minor": 2
}
