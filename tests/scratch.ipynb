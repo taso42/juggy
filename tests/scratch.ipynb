{
 "cells": [
  {
   "cell_type": "code",
   "execution_count": 28,
   "metadata": {},
   "outputs": [
    {
     "name": "stdout",
     "output_type": "stream",
     "text": [
      "/Users/taso/work/juggy\n"
     ]
    }
   ],
   "source": [
    "%cd ~/work/juggy\n",
    "\n",
    "import dotenv\n",
    "import importlib\n",
    "import os\n",
    "\n",
    "from juggy import algo as a\n",
    "from juggy import hevy as h\n",
    "\n",
    "importlib.reload(a)\n",
    "importlib.reload(h)\n",
    "\n",
    "dotenv.load_dotenv()\n",
    "\n",
    "api_key = os.getenv(\"HEVY_API_KEY\")"
   ]
  },
  {
   "cell_type": "code",
   "execution_count": 17,
   "metadata": {},
   "outputs": [
    {
     "name": "stdout",
     "output_type": "stream",
     "text": [
      "[(45, 10), (70, 5), (95, 3), (120, 2), None, (145, 5), (175, 3), (200, 1), (215, 10)]\n",
      "[(45, 10), (65, 5), (85, 3), (105, 2), None, (110, 5), (135, 3), (155, 1), (165, 10)]\n",
      "[(65, 10), (105, 5), (145, 3), (185, 2), None, (215, 5), (260, 3), (305, 1), (325, 10)]\n",
      "[(45, 10), (50, 5), (55, 3), (60, 2), None, (65, 5), (80, 3), (95, 1), (100, 10)]\n"
     ]
    }
   ],
   "source": [
    "BENCH_TM = 220\n",
    "SQUAT_TM = 285\n",
    "OHP_TM = 130\n",
    "DEADLIFT_TM = 430\n",
    "\n",
    "squats = a.generate_lifts(a.TEMPLATE[0][2], SQUAT_TM, 5, False)\n",
    "bench = a.generate_lifts(a.TEMPLATE[0][2], BENCH_TM, 5, False)\n",
    "deads = a.generate_lifts(a.TEMPLATE[0][2], DEADLIFT_TM, 5, True)\n",
    "ohp = a.generate_lifts(a.TEMPLATE[0][2], OHP_TM, 5, False)\n",
    "\n",
    "\n",
    "print(squats)\n",
    "print(bench)\n",
    "print(deads)\n",
    "print(ohp)\n"
   ]
  },
  {
   "cell_type": "code",
   "execution_count": 27,
   "metadata": {},
   "outputs": [
    {
     "name": "stdout",
     "output_type": "stream",
     "text": [
      "1\n",
      "1\n",
      "[{'id': '4c99f8a8-d7e1-4973-8682-76830ec409b9', 'title': 'Test', 'folder_id': None, 'updated_at': '2024-12-19T22:12:17.170Z', 'created_at': '2024-12-19T22:12:17.170Z', 'exercises': [{'index': 0, 'title': 'Deadlift (Barbell)', 'notes': None, 'exercise_template_id': 'C6272009', 'superset_id': None, 'sets': [{'index': 0, 'type': 'normal', 'weight_kg': 0, 'reps': None, 'distance_meters': None, 'duration_seconds': None}]}, {'index': 1, 'title': 'Overhead Press (Barbell)', 'notes': None, 'exercise_template_id': '7B8D84E8', 'superset_id': None, 'sets': [{'index': 0, 'type': 'normal', 'weight_kg': 0, 'reps': None, 'distance_meters': None, 'duration_seconds': None}]}]}, {'id': '252f768c-cc78-4de3-90c0-a819846c0abd', 'title': 'Squat Day (Monday)', 'folder_id': None, 'updated_at': '2024-12-15T19:33:27.350Z', 'created_at': '2024-12-15T15:32:48.037Z', 'exercises': [{'index': 0, 'title': 'Squat (Barbell)', 'notes': None, 'exercise_template_id': 'D04AC939', 'superset_id': None, 'sets': [{'index': 0, 'type': 'normal', 'weight_kg': 65.77097186816776, 'reps': 5, 'distance_meters': None, 'duration_seconds': None}, {'index': 1, 'type': 'normal', 'weight_kg': 79.37875915123695, 'reps': 3, 'distance_meters': None, 'duration_seconds': None}, {'index': 2, 'type': 'normal', 'weight_kg': 90.71858188712795, 'reps': 1, 'distance_meters': None, 'duration_seconds': None}, {'index': 3, 'type': 'normal', 'weight_kg': 97.52247552866254, 'reps': 13, 'distance_meters': None, 'duration_seconds': None}]}, {'index': 1, 'title': 'Glute Ham Raise', 'notes': None, 'exercise_template_id': '68B83EE0', 'superset_id': None, 'sets': [{'index': 0, 'type': 'normal', 'weight_kg': None, 'reps': 8, 'distance_meters': None, 'duration_seconds': None}, {'index': 1, 'type': 'normal', 'weight_kg': None, 'reps': 10, 'distance_meters': None, 'duration_seconds': None}, {'index': 2, 'type': 'normal', 'weight_kg': None, 'reps': 10, 'distance_meters': None, 'duration_seconds': None}]}, {'index': 2, 'title': 'Bicep Curl (Dumbbell)', 'notes': None, 'exercise_template_id': '37FCC2BB', 'superset_id': None, 'sets': [{'index': 0, 'type': 'normal', 'weight_kg': 13.607787283069193, 'reps': 14, 'distance_meters': None, 'duration_seconds': None}, {'index': 1, 'type': 'normal', 'weight_kg': 13.607787283069193, 'reps': 14, 'distance_meters': None, 'duration_seconds': None}, {'index': 2, 'type': 'normal', 'weight_kg': 13.607787283069193, 'reps': 14, 'distance_meters': None, 'duration_seconds': None}]}, {'index': 3, 'title': 'Standing Calf Raise (Barbell)', 'notes': None, 'exercise_template_id': 'E53CCBE5', 'superset_id': None, 'sets': [{'index': 0, 'type': 'normal', 'weight_kg': 83.91468824559335, 'reps': 12, 'distance_meters': None, 'duration_seconds': None}, {'index': 1, 'type': 'normal', 'weight_kg': 83.91468824559335, 'reps': 14, 'distance_meters': None, 'duration_seconds': None}, {'index': 2, 'type': 'normal', 'weight_kg': 83.91468824559335, 'reps': 14, 'distance_meters': None, 'duration_seconds': None}, {'index': 3, 'type': 'normal', 'weight_kg': 83.91468824559335, 'reps': 14, 'distance_meters': None, 'duration_seconds': None}, {'index': 4, 'type': 'normal', 'weight_kg': 83.91468824559335, 'reps': 14, 'distance_meters': None, 'duration_seconds': None}]}]}, {'id': '86d9fdea-1612-4cf7-8824-79cfc0a6b37b', 'title': 'April Leg Day 🔥', 'folder_id': None, 'updated_at': '2024-12-20T17:25:55.481Z', 'created_at': '2024-12-20T17:25:55.481Z', 'exercises': [{'index': 0, 'title': 'Squat (Barbell)', 'notes': 'Stay slow and controlled.', 'exercise_template_id': 'D04AC939', 'superset_id': None, 'sets': [{'index': 0, 'type': 'normal', 'weight_kg': 100, 'reps': 10, 'distance_meters': None, 'duration_seconds': None}]}]}]\n",
      "{'id': '4c99f8a8-d7e1-4973-8682-76830ec409b9', 'title': 'Test', 'folder_id': None, 'updated_at': '2024-12-19T22:12:17.170Z', 'created_at': '2024-12-19T22:12:17.170Z', 'exercises': [{'index': 0, 'title': 'Deadlift (Barbell)', 'notes': None, 'exercise_template_id': 'C6272009', 'superset_id': None, 'sets': [{'index': 0, 'type': 'normal', 'weight_kg': 0, 'reps': None, 'distance_meters': None, 'duration_seconds': None}]}, {'index': 1, 'title': 'Overhead Press (Barbell)', 'notes': None, 'exercise_template_id': '7B8D84E8', 'superset_id': None, 'sets': [{'index': 0, 'type': 'normal', 'weight_kg': 0, 'reps': None, 'distance_meters': None, 'duration_seconds': None}]}]}\n",
      "{'id': '252f768c-cc78-4de3-90c0-a819846c0abd', 'title': 'Squat Day (Monday)', 'folder_id': None, 'updated_at': '2024-12-15T19:33:27.350Z', 'created_at': '2024-12-15T15:32:48.037Z', 'exercises': [{'index': 0, 'title': 'Squat (Barbell)', 'notes': None, 'exercise_template_id': 'D04AC939', 'superset_id': None, 'sets': [{'index': 0, 'type': 'normal', 'weight_kg': 65.77097186816776, 'reps': 5, 'distance_meters': None, 'duration_seconds': None}, {'index': 1, 'type': 'normal', 'weight_kg': 79.37875915123695, 'reps': 3, 'distance_meters': None, 'duration_seconds': None}, {'index': 2, 'type': 'normal', 'weight_kg': 90.71858188712795, 'reps': 1, 'distance_meters': None, 'duration_seconds': None}, {'index': 3, 'type': 'normal', 'weight_kg': 97.52247552866254, 'reps': 13, 'distance_meters': None, 'duration_seconds': None}]}, {'index': 1, 'title': 'Glute Ham Raise', 'notes': None, 'exercise_template_id': '68B83EE0', 'superset_id': None, 'sets': [{'index': 0, 'type': 'normal', 'weight_kg': None, 'reps': 8, 'distance_meters': None, 'duration_seconds': None}, {'index': 1, 'type': 'normal', 'weight_kg': None, 'reps': 10, 'distance_meters': None, 'duration_seconds': None}, {'index': 2, 'type': 'normal', 'weight_kg': None, 'reps': 10, 'distance_meters': None, 'duration_seconds': None}]}, {'index': 2, 'title': 'Bicep Curl (Dumbbell)', 'notes': None, 'exercise_template_id': '37FCC2BB', 'superset_id': None, 'sets': [{'index': 0, 'type': 'normal', 'weight_kg': 13.607787283069193, 'reps': 14, 'distance_meters': None, 'duration_seconds': None}, {'index': 1, 'type': 'normal', 'weight_kg': 13.607787283069193, 'reps': 14, 'distance_meters': None, 'duration_seconds': None}, {'index': 2, 'type': 'normal', 'weight_kg': 13.607787283069193, 'reps': 14, 'distance_meters': None, 'duration_seconds': None}]}, {'index': 3, 'title': 'Standing Calf Raise (Barbell)', 'notes': None, 'exercise_template_id': 'E53CCBE5', 'superset_id': None, 'sets': [{'index': 0, 'type': 'normal', 'weight_kg': 83.91468824559335, 'reps': 12, 'distance_meters': None, 'duration_seconds': None}, {'index': 1, 'type': 'normal', 'weight_kg': 83.91468824559335, 'reps': 14, 'distance_meters': None, 'duration_seconds': None}, {'index': 2, 'type': 'normal', 'weight_kg': 83.91468824559335, 'reps': 14, 'distance_meters': None, 'duration_seconds': None}, {'index': 3, 'type': 'normal', 'weight_kg': 83.91468824559335, 'reps': 14, 'distance_meters': None, 'duration_seconds': None}, {'index': 4, 'type': 'normal', 'weight_kg': 83.91468824559335, 'reps': 14, 'distance_meters': None, 'duration_seconds': None}]}]}\n",
      "{'id': '86d9fdea-1612-4cf7-8824-79cfc0a6b37b', 'title': 'April Leg Day 🔥', 'folder_id': None, 'updated_at': '2024-12-20T17:25:55.481Z', 'created_at': '2024-12-20T17:25:55.481Z', 'exercises': [{'index': 0, 'title': 'Squat (Barbell)', 'notes': 'Stay slow and controlled.', 'exercise_template_id': 'D04AC939', 'superset_id': None, 'sets': [{'index': 0, 'type': 'normal', 'weight_kg': 100, 'reps': 10, 'distance_meters': None, 'duration_seconds': None}]}]}\n"
     ]
    }
   ],
   "source": [
    "#h.get_routines(api_key)\n",
    "\n",
    "#h.create_routine(api_key, \"Blah1\")\n",
    "\n",
    "h.bootstrap_rotines(api_key)"
   ]
  }
 ],
 "metadata": {
  "kernelspec": {
   "display_name": "venv",
   "language": "python",
   "name": "python3"
  },
  "language_info": {
   "codemirror_mode": {
    "name": "ipython",
    "version": 3
   },
   "file_extension": ".py",
   "mimetype": "text/x-python",
   "name": "python",
   "nbconvert_exporter": "python",
   "pygments_lexer": "ipython3",
   "version": "3.11.3"
  }
 },
 "nbformat": 4,
 "nbformat_minor": 2
}
