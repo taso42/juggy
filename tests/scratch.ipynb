{
 "cells": [
  {
   "cell_type": "code",
   "execution_count": null,
   "metadata": {},
   "outputs": [],
   "source": [
    "%cd ~/work/juggy\n",
    "\n",
    "import dotenv\n",
    "import importlib\n",
    "import os\n",
    "\n",
    "from juggy import algo as a\n",
    "\n",
    "\n",
    "importlib.reload(a)\n",
    "\n",
    "dotenv.load_dotenv()\n",
    "\n",
    "os.getenv(\"HEVY_API_KEY\")"
   ]
  },
  {
   "cell_type": "code",
   "execution_count": null,
   "metadata": {},
   "outputs": [],
   "source": [
    "BENCH_TM = 220\n",
    "SQUAT_TM = 285\n",
    "OHP_TM = 130\n",
    "DEADLIFT_TM = 430\n",
    "\n",
    "squats = a.generate_lifts(a.TEMPLATE[0][2], SQUAT_TM, 5, False)\n",
    "bench = a.generate_lifts(a.TEMPLATE[0][2], BENCH_TM, 5, False)\n",
    "deads = a.generate_lifts(a.TEMPLATE[0][2], DEADLIFT_TM, 5, True)\n",
    "ohp = a.generate_lifts(a.TEMPLATE[0][2], OHP_TM, 5, False)\n",
    "\n",
    "\n",
    "print(squats)\n",
    "print(bench)\n",
    "print(deads)\n",
    "print(ohp)\n"
   ]
  }
 ],
 "metadata": {
  "kernelspec": {
   "display_name": "venv",
   "language": "python",
   "name": "python3"
  },
  "language_info": {
   "codemirror_mode": {
    "name": "ipython",
    "version": 3
   },
   "file_extension": ".py",
   "mimetype": "text/x-python",
   "name": "python",
   "nbconvert_exporter": "python",
   "pygments_lexer": "ipython3",
   "version": "3.11.3"
  }
 },
 "nbformat": 4,
 "nbformat_minor": 2
}
