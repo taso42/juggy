{
 "cells": [
  {
   "cell_type": "code",
   "execution_count": 12,
   "metadata": {},
   "outputs": [
    {
     "name": "stdout",
     "output_type": "stream",
     "text": [
      "/Users/taso/work/juggy\n"
     ]
    }
   ],
   "source": [
    "%cd ~/work/juggy\n",
    "\n",
    "import dotenv\n",
    "import importlib\n",
    "import os\n",
    "\n",
    "from juggy import algo as a\n",
    "from juggy import hevy as h\n",
    "\n",
    "importlib.reload(a)\n",
    "importlib.reload(h)\n",
    "\n",
    "dotenv.load_dotenv()\n",
    "\n",
    "api_key = os.getenv(\"HEVY_API_KEY\")"
   ]
  },
  {
   "cell_type": "code",
   "execution_count": 10,
   "metadata": {},
   "outputs": [
    {
     "name": "stdout",
     "output_type": "stream",
     "text": [
      "[(45, 10), (70, 5), (95, 3), (120, 2), None, (145, 5), (175, 3), (200, 1), (215, 10)]\n",
      "[(45, 10), (65, 5), (85, 3), (105, 2), None, (110, 5), (135, 3), (155, 1), (165, 10)]\n",
      "[(65, 10), (105, 5), (145, 3), (185, 2), None, (215, 5), (260, 3), (305, 1), (325, 10)]\n",
      "[(45, 10), (50, 5), (55, 3), (60, 2), None, (65, 5), (80, 3), (95, 1), (100, 10)]\n"
     ]
    },
    {
     "data": {
      "text/plain": [
       "[{'exercise_template_id': 'D04AC939',\n",
       "  'sets': [{'type': 'warmup', 'weight_kg': 20.41165665, 'reps': 10},\n",
       "   {'type': 'warmup', 'weight_kg': 31.751465900000003, 'reps': 5},\n",
       "   {'type': 'warmup', 'weight_kg': 43.09127515, 'reps': 3},\n",
       "   {'type': 'warmup', 'weight_kg': 54.4310844, 'reps': 2},\n",
       "   {'type': 'normal', 'weight_kg': 65.77089365, 'reps': 5},\n",
       "   {'type': 'normal', 'weight_kg': 79.37866475, 'reps': 3},\n",
       "   {'type': 'normal', 'weight_kg': 90.718474, 'reps': 1},\n",
       "   {'type': 'normal', 'weight_kg': 97.52235955, 'reps': 10}]}]"
      ]
     },
     "execution_count": 10,
     "metadata": {},
     "output_type": "execute_result"
    }
   ],
   "source": [
    "from juggy.constants import SQUAT_EXERCISE_ID\n",
    "\n",
    "BENCH_TM = 220\n",
    "SQUAT_TM = 285\n",
    "OHP_TM = 130\n",
    "DEADLIFT_TM = 430\n",
    "\n",
    "squats = a.generate_lifts(a.TEMPLATE[0][2], SQUAT_TM, 5, False)\n",
    "bench = a.generate_lifts(a.TEMPLATE[0][2], BENCH_TM, 5, False)\n",
    "deads = a.generate_lifts(a.TEMPLATE[0][2], DEADLIFT_TM, 5, True)\n",
    "ohp = a.generate_lifts(a.TEMPLATE[0][2], OHP_TM, 5, False)\n",
    "\n",
    "\n",
    "print(squats)\n",
    "print(bench)\n",
    "print(deads)\n",
    "print(ohp)\n",
    "\n",
    "\n",
    "squats = [\n",
    "    {\"exercise_template_id\": SQUAT_EXERCISE_ID, \"sets\": h.lifts_to_hevy_sets(squats)},\n",
    "]\n",
    "squats\n",
    "\n",
    "            # \"exercises\": [\n",
    "            #     {\n",
    "            #         \"exercise_template_id\": \"D04AC939\",\n",
    "            #         \"sets\": [{\"type\": \"normal\", \"weight_kg\": 100, \"reps\": 10}],\n",
    "            #     }\n",
    "            # ],\n"
   ]
  },
  {
   "cell_type": "code",
   "execution_count": 14,
   "metadata": {},
   "outputs": [
    {
     "name": "stderr",
     "output_type": "stream",
     "text": [
      "\u001b[32m2024-12-20 15:34:49.747\u001b[0m | \u001b[1mINFO    \u001b[0m | \u001b[36mjuggy.hevy\u001b[0m:\u001b[36mget_folders\u001b[0m:\u001b[36m25\u001b[0m - \u001b[1mPage 1 of 1\u001b[0m\n",
      "\u001b[32m2024-12-20 15:34:49.747\u001b[0m | \u001b[1mINFO    \u001b[0m | \u001b[36mjuggy.hevy\u001b[0m:\u001b[36mbootstrap_routines\u001b[0m:\u001b[36m96\u001b[0m - \u001b[1mFound Juggy folder with id 667143\u001b[0m\n",
      "\u001b[32m2024-12-20 15:34:49.748\u001b[0m | \u001b[1mINFO    \u001b[0m | \u001b[36mjuggy.hevy\u001b[0m:\u001b[36mcreate_routine\u001b[0m:\u001b[36m75\u001b[0m - \u001b[1mCreating routine Squat Day in folder 667143\u001b[0m\n"
     ]
    }
   ],
   "source": [
    "#h.get_routines(api_key)\n",
    "\n",
    "#h.create_routine(api_key, \"Blah1\")\n",
    "\n",
    "h.bootstrap_routines(api_key, squats, None, None, None)"
   ]
  }
 ],
 "metadata": {
  "kernelspec": {
   "display_name": "venv",
   "language": "python",
   "name": "python3"
  },
  "language_info": {
   "codemirror_mode": {
    "name": "ipython",
    "version": 3
   },
   "file_extension": ".py",
   "mimetype": "text/x-python",
   "name": "python",
   "nbconvert_exporter": "python",
   "pygments_lexer": "ipython3",
   "version": "3.11.3"
  }
 },
 "nbformat": 4,
 "nbformat_minor": 2
}
